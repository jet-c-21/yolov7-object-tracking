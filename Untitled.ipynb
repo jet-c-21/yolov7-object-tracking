{
 "cells": [
  {
   "cell_type": "code",
   "execution_count": 5,
   "id": "770b4acf-0411-4c54-acd7-e23cd0c8573f",
   "metadata": {},
   "outputs": [
    {
     "name": "stdout",
     "output_type": "stream",
     "text": [
      "Traceback (most recent call last):\n",
      "  File \"/home/puff/MyHome/TargetProject/yolov7-object-tracking/detect_and_track.py\", line 2, in <module>\n",
      "    import cv2\n",
      "ModuleNotFoundError: No module named 'cv2'\n"
     ]
    }
   ],
   "source": [
    "!python detect_and_track.py \\\n",
    "--weights yolov7.pt \\\n",
    "--source \"raw_video/walking_people.mp4\" \\\n",
    "--classes 0 \\\n",
    "--name \"YOLOV7 Object Tracking\""
   ]
  },
  {
   "cell_type": "code",
   "execution_count": null,
   "id": "1cf62015-8b0f-487b-80ef-1b64e297531b",
   "metadata": {},
   "outputs": [],
   "source": []
  },
  {
   "cell_type": "code",
   "execution_count": null,
   "id": "d90f0f17-9cdc-4414-a814-dbf247692d52",
   "metadata": {},
   "outputs": [],
   "source": []
  }
 ],
 "metadata": {
  "kernelspec": {
   "display_name": "YOLO V7 MOT",
   "language": "python",
   "name": "yolo7"
  },
  "language_info": {
   "codemirror_mode": {
    "name": "ipython",
    "version": 3
   },
   "file_extension": ".py",
   "mimetype": "text/x-python",
   "name": "python",
   "nbconvert_exporter": "python",
   "pygments_lexer": "ipython3",
   "version": "3.6.9"
  }
 },
 "nbformat": 4,
 "nbformat_minor": 5
}
